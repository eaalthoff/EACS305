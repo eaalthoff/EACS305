{
 "cells": [
  {
   "cell_type": "markdown",
   "metadata": {},
   "source": [
    "<p>Weather API documentation (WeatherDB) can be found here: <a href='https://weatherdbi.herokuapp.com/documentation/v1'>https://weatherdbi.herokuapp.com/documentation/v1</a></p>\n"
   ]
  },
  {
   "cell_type": "code",
   "execution_count": 15,
   "metadata": {},
   "outputs": [
    {
     "name": "stdout",
     "output_type": "stream",
     "text": [
      "{\"region\":\"Madison, WI\",\"currentConditions\":{\"dayhour\":\"Thursday 7:00 PM\",\"temp\":{\"c\":-12,\"f\":11},\"precip\":\"1%\",\"humidity\":\"64%\",\"wind\":{\"km\":16,\"mile\":10},\"iconURL\":\"https://ssl.gstatic.com/onebox/weather/64/sunny_s_cloudy.png\",\"comment\":\"Clear with periodic clouds\"},\"next_days\":[{\"day\":\"Thursday\",\"comment\":\"Clear with periodic clouds\",\"max_temp\":{\"c\":-8,\"f\":18},\"min_temp\":{\"c\":-16,\"f\":4},\"iconURL\":\"https://ssl.gstatic.com/onebox/weather/48/sunny_s_cloudy.png\"},{\"day\":\"Friday\",\"comment\":\"Mostly cloudy\",\"max_temp\":{\"c\":1,\"f\":34},\"min_temp\":{\"c\":-15,\"f\":5},\"iconURL\":\"https://ssl.gstatic.com/onebox/weather/48/partly_cloudy.png\"},{\"day\":\"Saturday\",\"comment\":\"Sunny\",\"max_temp\":{\"c\":-5,\"f\":23},\"min_temp\":{\"c\":-8,\"f\":17},\"iconURL\":\"https://ssl.gstatic.com/onebox/weather/48/sunny.png\"},{\"day\":\"Sunday\",\"comment\":\"Partly cloudy\",\"max_temp\":{\"c\":11,\"f\":51},\"min_temp\":{\"c\":-4,\"f\":25},\"iconURL\":\"https://ssl.gstatic.com/onebox/weather/48/partly_cloudy.png\"},{\"day\":\"Monday\",\"comment\":\"Snow showers\",\"max_temp\":{\"c\":0,\"f\":32},\"min_temp\":{\"c\":-6,\"f\":21},\"iconURL\":\"https://ssl.gstatic.com/onebox/weather/48/snow_light.png\"},{\"day\":\"Tuesday\",\"comment\":\"Snow with brief sleet\",\"max_temp\":{\"c\":-5,\"f\":23},\"min_temp\":{\"c\":-14,\"f\":6},\"iconURL\":\"https://ssl.gstatic.com/onebox/weather/48/snow.png\"},{\"day\":\"Wednesday\",\"comment\":\"Mostly cloudy\",\"max_temp\":{\"c\":-8,\"f\":18},\"min_temp\":{\"c\":-17,\"f\":1},\"iconURL\":\"https://ssl.gstatic.com/onebox/weather/48/partly_cloudy.png\"},{\"day\":\"Thursday\",\"comment\":\"Partly cloudy\",\"max_temp\":{\"c\":-6,\"f\":21},\"min_temp\":{\"c\":-14,\"f\":7},\"iconURL\":\"https://ssl.gstatic.com/onebox/weather/48/partly_cloudy.png\"}],\"contact_author\":{\"email\":\"communication.with.users@gmail.com\",\"auth_note\":\"Mail me for feature requests, improvement, bug, help, ect... Please tell me if you want me to provide any other free easy-to-use API services\"},\"data_source\":\"https://www.google.com/search?lr=lang_en&q=weather+in+%7Bmadison%7D\"}\n"
     ]
    }
   ],
   "source": [
    "#get\n",
    "import requests\n",
    "import json\n",
    "\n",
    "url='https://weatherdbi.herokuapp.com/data/weather/{madison}'\n",
    "r=requests.get(url)\n",
    "print(r.text)"
   ]
  },
  {
   "cell_type": "code",
   "execution_count": 16,
   "metadata": {},
   "outputs": [
    {
     "name": "stdout",
     "output_type": "stream",
     "text": [
      "{'region': 'Madison, WI', 'currentConditions': {'dayhour': 'Thursday 7:00 PM', 'temp': {'c': -12, 'f': 11}, 'precip': '1%', 'humidity': '64%', 'wind': {'km': 16, 'mile': 10}, 'iconURL': 'https://ssl.gstatic.com/onebox/weather/64/sunny_s_cloudy.png', 'comment': 'Clear with periodic clouds'}, 'next_days': [{'day': 'Thursday', 'comment': 'Clear with periodic clouds', 'max_temp': {'c': -8, 'f': 18}, 'min_temp': {'c': -16, 'f': 4}, 'iconURL': 'https://ssl.gstatic.com/onebox/weather/48/sunny_s_cloudy.png'}, {'day': 'Friday', 'comment': 'Mostly cloudy', 'max_temp': {'c': 1, 'f': 34}, 'min_temp': {'c': -15, 'f': 5}, 'iconURL': 'https://ssl.gstatic.com/onebox/weather/48/partly_cloudy.png'}, {'day': 'Saturday', 'comment': 'Sunny', 'max_temp': {'c': -5, 'f': 23}, 'min_temp': {'c': -8, 'f': 17}, 'iconURL': 'https://ssl.gstatic.com/onebox/weather/48/sunny.png'}, {'day': 'Sunday', 'comment': 'Partly cloudy', 'max_temp': {'c': 11, 'f': 51}, 'min_temp': {'c': -4, 'f': 25}, 'iconURL': 'https://ssl.gstatic.com/onebox/weather/48/partly_cloudy.png'}, {'day': 'Monday', 'comment': 'Snow showers', 'max_temp': {'c': 0, 'f': 32}, 'min_temp': {'c': -6, 'f': 21}, 'iconURL': 'https://ssl.gstatic.com/onebox/weather/48/snow_light.png'}, {'day': 'Tuesday', 'comment': 'Snow with brief sleet', 'max_temp': {'c': -5, 'f': 23}, 'min_temp': {'c': -14, 'f': 6}, 'iconURL': 'https://ssl.gstatic.com/onebox/weather/48/snow.png'}, {'day': 'Wednesday', 'comment': 'Mostly cloudy', 'max_temp': {'c': -8, 'f': 18}, 'min_temp': {'c': -17, 'f': 1}, 'iconURL': 'https://ssl.gstatic.com/onebox/weather/48/partly_cloudy.png'}, {'day': 'Thursday', 'comment': 'Partly cloudy', 'max_temp': {'c': -6, 'f': 21}, 'min_temp': {'c': -14, 'f': 7}, 'iconURL': 'https://ssl.gstatic.com/onebox/weather/48/partly_cloudy.png'}], 'contact_author': {'email': 'communication.with.users@gmail.com', 'auth_note': 'Mail me for feature requests, improvement, bug, help, ect... Please tell me if you want me to provide any other free easy-to-use API services'}, 'data_source': 'https://www.google.com/search?lr=lang_en&q=weather+in+%7Bmadison%7D'}\n"
     ]
    }
   ],
   "source": [
    "#turning the result into a dictionary\n",
    "dictData=json.loads(r.text)\n",
    "print(dictData)"
   ]
  },
  {
   "cell_type": "code",
   "execution_count": 17,
   "metadata": {},
   "outputs": [
    {
     "name": "stdout",
     "output_type": "stream",
     "text": [
      "Madison, WI\n"
     ]
    }
   ],
   "source": [
    "#printing one element of the array\n",
    "print(dictData['region'])"
   ]
  },
  {
   "cell_type": "code",
   "execution_count": 18,
   "metadata": {},
   "outputs": [
    {
     "name": "stdout",
     "output_type": "stream",
     "text": [
      "[{'day': 'Thursday', 'comment': 'Clear with periodic clouds', 'max_temp': {'c': -8, 'f': 18}, 'min_temp': {'c': -16, 'f': 4}, 'iconURL': 'https://ssl.gstatic.com/onebox/weather/48/sunny_s_cloudy.png'}, {'day': 'Friday', 'comment': 'Mostly cloudy', 'max_temp': {'c': 1, 'f': 34}, 'min_temp': {'c': -15, 'f': 5}, 'iconURL': 'https://ssl.gstatic.com/onebox/weather/48/partly_cloudy.png'}, {'day': 'Saturday', 'comment': 'Sunny', 'max_temp': {'c': -5, 'f': 23}, 'min_temp': {'c': -8, 'f': 17}, 'iconURL': 'https://ssl.gstatic.com/onebox/weather/48/sunny.png'}, {'day': 'Sunday', 'comment': 'Partly cloudy', 'max_temp': {'c': 11, 'f': 51}, 'min_temp': {'c': -4, 'f': 25}, 'iconURL': 'https://ssl.gstatic.com/onebox/weather/48/partly_cloudy.png'}, {'day': 'Monday', 'comment': 'Snow showers', 'max_temp': {'c': 0, 'f': 32}, 'min_temp': {'c': -6, 'f': 21}, 'iconURL': 'https://ssl.gstatic.com/onebox/weather/48/snow_light.png'}, {'day': 'Tuesday', 'comment': 'Snow with brief sleet', 'max_temp': {'c': -5, 'f': 23}, 'min_temp': {'c': -14, 'f': 6}, 'iconURL': 'https://ssl.gstatic.com/onebox/weather/48/snow.png'}, {'day': 'Wednesday', 'comment': 'Mostly cloudy', 'max_temp': {'c': -8, 'f': 18}, 'min_temp': {'c': -17, 'f': 1}, 'iconURL': 'https://ssl.gstatic.com/onebox/weather/48/partly_cloudy.png'}, {'day': 'Thursday', 'comment': 'Partly cloudy', 'max_temp': {'c': -6, 'f': 21}, 'min_temp': {'c': -14, 'f': 7}, 'iconURL': 'https://ssl.gstatic.com/onebox/weather/48/partly_cloudy.png'}]\n"
     ]
    }
   ],
   "source": [
    "#printing another element of the array\n",
    "print(dictData['next_days'])"
   ]
  },
  {
   "cell_type": "code",
   "execution_count": 19,
   "metadata": {},
   "outputs": [
    {
     "name": "stdout",
     "output_type": "stream",
     "text": [
      "Thursday {'c': -16, 'f': 4}\n",
      "Friday {'c': -15, 'f': 5}\n",
      "Saturday {'c': -8, 'f': 17}\n",
      "Sunday {'c': -4, 'f': 25}\n",
      "Monday {'c': -6, 'f': 21}\n",
      "Tuesday {'c': -14, 'f': 6}\n",
      "Wednesday {'c': -17, 'f': 1}\n",
      "Thursday {'c': -14, 'f': 7}\n"
     ]
    }
   ],
   "source": [
    "#loop through data and print a specific element in it\n",
    "for minTemp in dictData['next_days']:\n",
    "    print(minTemp['day'], minTemp['min_temp'])"
   ]
  },
  {
   "cell_type": "markdown",
   "metadata": {},
   "source": []
  }
 ],
 "metadata": {
  "kernelspec": {
   "display_name": "Python 3",
   "language": "python",
   "name": "python3"
  },
  "language_info": {
   "codemirror_mode": {
    "name": "ipython",
    "version": 3
   },
   "file_extension": ".py",
   "mimetype": "text/x-python",
   "name": "python",
   "nbconvert_exporter": "python",
   "pygments_lexer": "ipython3",
   "version": "3.7.4"
  }
 },
 "nbformat": 4,
 "nbformat_minor": 2
}
